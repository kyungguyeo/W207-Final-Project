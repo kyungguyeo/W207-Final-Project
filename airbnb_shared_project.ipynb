{
 "cells": [
  {
   "cell_type": "code",
   "execution_count": 37,
   "metadata": {
    "collapsed": true
   },
   "outputs": [],
   "source": [
    "# This tells matplotlib not to try opening a new window for each plot.\n",
    "%matplotlib inline\n",
    "\n",
    "# General libraries.\n",
    "import numpy as np\n",
    "import pandas as pd\n",
    "from sklearn import preprocessing\n",
    "\n",
    "# SK-learn libraries for learning.\n",
    "from sklearn.pipeline import Pipeline\n",
    "\n",
    "from sklearn.neighbors import KNeighborsClassifier\n",
    "from sklearn.naive_bayes import MultinomialNB\n",
    "from sklearn.linear_model import LogisticRegression\n",
    "from sklearn.grid_search import GridSearchCV\n",
    "\n",
    "# SK-learn libraries for evaluation.\n",
    "from sklearn import metrics"
   ]
  },
  {
   "cell_type": "code",
   "execution_count": 2,
   "metadata": {
    "collapsed": false
   },
   "outputs": [
    {
     "name": "stdout",
     "output_type": "stream",
     "text": [
      "Train data shape: (213451, 16)\n",
      "\n",
      "\n",
      "--------------Top 5 Rows----------------------\n",
      "           id date_account_created  timestamp_first_active date_first_booking  \\\n",
      "0  gxn3p5htnn           2010-06-28          20090319043255                NaN   \n",
      "1  820tgsjxq7           2011-05-25          20090523174809                NaN   \n",
      "2  4ft3gnwmtx           2010-09-28          20090609231247         2010-08-02   \n",
      "3  bjjt8pjhuk           2011-12-05          20091031060129         2012-09-08   \n",
      "4  87mebub9p4           2010-09-14          20091208061105         2010-02-18   \n",
      "\n",
      "      gender  age signup_method  signup_flow language affiliate_channel  \\\n",
      "0  -unknown-  NaN      facebook            0       en            direct   \n",
      "1       MALE   38      facebook            0       en               seo   \n",
      "2     FEMALE   56         basic            3       en            direct   \n",
      "3     FEMALE   42      facebook            0       en            direct   \n",
      "4  -unknown-   41         basic            0       en            direct   \n",
      "\n",
      "  affiliate_provider first_affiliate_tracked signup_app first_device_type  \\\n",
      "0             direct               untracked        Web       Mac Desktop   \n",
      "1             google               untracked        Web       Mac Desktop   \n",
      "2             direct               untracked        Web   Windows Desktop   \n",
      "3             direct               untracked        Web       Mac Desktop   \n",
      "4             direct               untracked        Web       Mac Desktop   \n",
      "\n",
      "  first_browser country_destination  \n",
      "0        Chrome                 NDF  \n",
      "1        Chrome                 NDF  \n",
      "2            IE                  US  \n",
      "3       Firefox               other  \n",
      "4        Chrome                  US  \n",
      "----------------------------------------------\n"
     ]
    }
   ],
   "source": [
    "# Load data using pandas.\n",
    "train_data = pd.read_csv('data/train_users_2.csv')\n",
    "test_data = pd.read_csv('data/test_users.csv')\n",
    "print \"Train data shape: {0}\".format(train_data.shape)\n",
    "print \"\\n\"\n",
    "print \"--------------Top 5 Rows----------------------\"\n",
    "print train_data.head()\n",
    "print \"----------------------------------------------\""
   ]
  },
  {
   "cell_type": "code",
   "execution_count": 3,
   "metadata": {
    "collapsed": false
   },
   "outputs": [
    {
     "name": "stdout",
     "output_type": "stream",
     "text": [
      "Train data shape: (213451, 6)\n",
      "Test data shape: (62096, 6)\n",
      "Train labels shape: (213451,)\n"
     ]
    }
   ],
   "source": [
    "# Helper function to extract features.\n",
    "def ExtractFeatures(data):\n",
    "    # Choose a subset of categorical columns.\n",
    "    categorical_columns = [\"gender\", \"signup_method\", \"language\", \"first_device_type\", \"first_browser\"]\n",
    "    categorical_values = np.array(data[categorical_columns])\n",
    "\n",
    "    # Do the first column\n",
    "    enc_label = preprocessing.LabelEncoder()\n",
    "    features_data = enc_label.fit_transform(categorical_values[:,0])\n",
    "\n",
    "    # Do the rest of the columns\n",
    "    for i in range(1, categorical_values.shape[1]):\n",
    "            enc_label = preprocessing.LabelEncoder()\n",
    "            features_data = np.column_stack((features_data,\n",
    "                                             enc_label.fit_transform(categorical_values[:,i])))\n",
    "\n",
    "    # Add age to features.\n",
    "    # Clean up age data.\n",
    "    data[\"age\"] = data[\"age\"].fillna(0)\n",
    "    # Add age data to training data.\n",
    "    features_data = np.column_stack((features_data, np.array(data[\"age\"])))\n",
    "    # Convert to matrix of ints.\n",
    "    features_data = features_data.astype(int)\n",
    "    return features_data\n",
    "\n",
    "# Extract and format features for training and test data.\n",
    "train_data_x = ExtractFeatures(train_data)\n",
    "test_data_x = ExtractFeatures(test_data)\n",
    "print \"Train data shape: {0}\".format(train_data_x.shape)\n",
    "print \"Test data shape: {0}\".format(test_data_x.shape)\n",
    "\n",
    "# Extract train labels.\n",
    "train_data_y = np.array(train_data[\"country_destination\"])\n",
    "print \"Train labels shape: {0}\".format(train_data_y.shape)"
   ]
  },
  {
   "cell_type": "code",
   "execution_count": 4,
   "metadata": {
    "collapsed": false
   },
   "outputs": [
    {
     "name": "stdout",
     "output_type": "stream",
     "text": [
      "(170760, 6) (170760,)\n",
      "(42691, 6) (42691,)\n"
     ]
    }
   ],
   "source": [
    "# Split train data into training and dev sets.\n",
    "train_data_size = (len(train_data_x))/5*4\n",
    "train_x, train_y = train_data_x[:train_data_size], train_data_y[:train_data_size]\n",
    "dev_x, dev_y = train_data_x[train_data_size:], train_data_y[train_data_size:]\n",
    "print train_x.shape, train_y.shape\n",
    "print dev_x.shape, dev_y.shape"
   ]
  },
  {
   "cell_type": "code",
   "execution_count": 13,
   "metadata": {
    "collapsed": false
   },
   "outputs": [
    {
     "name": "stdout",
     "output_type": "stream",
     "text": [
      "Classes: ['AU' 'CA' 'DE' 'ES' 'FR' 'GB' 'IT' 'NDF' 'NL' 'PT' 'US' 'other']\n",
      "Class count: [   462.   1128.    911.   1831.   4175.   1889.   2271.  98192.    602.\n",
      "    163.  51033.   8103.]\n",
      "Accuracy: 0.591506406503\n",
      "F1 score: 0.561747196972\n"
     ]
    }
   ],
   "source": [
    "# Train Naive Bayes Model.\n",
    "mnb = MultinomialNB()\n",
    "mnb.fit(train_x, train_y)\n",
    "print \"Classes: {0}\".format(mnb.classes_)\n",
    "print \"Class count: {0}\".format(mnb.class_count_)\n",
    "print \"Accuracy: {0}\".format(mnb.score(dev_x, dev_y))\n",
    "predictions = mnb.predict(dev_x)\n",
    "print \"F1 score: {0}\".format(metrics.f1_score(dev_y,predictions,average=\"weighted\"))"
   ]
  },
  {
   "cell_type": "code",
   "execution_count": 9,
   "metadata": {
    "collapsed": false
   },
   "outputs": [],
   "source": [
    "# Predict test data using multinomial model.\n",
    "test_predictions = mnb.predict(test_data_x)\n",
    "output = pd.concat([test_data[\"id\"], pd.DataFrame(test_predictions, columns=[\"country\"])], axis=1)\n",
    "# Update version everytime!\n",
    "version = 1\n",
    "output.to_csv(\"submissions/shared_submission_{0}.csv\".format(version), index=False)"
   ]
  },
  {
   "cell_type": "code",
   "execution_count": 34,
   "metadata": {
    "collapsed": true
   },
   "outputs": [],
   "source": [
    "# Predict Top 5 cities for each test example using multinomial model.\n",
    "prob_est = mnb.predict_proba(test_data_x)\n",
    "predictions = []\n",
    "for i, example in enumerate(prob_est):\n",
    "    sorted_scores = np.sort(example)\n",
    "    top_5 = sorted_scores[len(sorted_scores) - 5:]\n",
    "    for score in reversed(top_5):\n",
    "        index_of_score = example.tolist().index(score)\n",
    "        predictions.append((test_data[\"id\"][i], mnb.classes_[index_of_score]))\n",
    "output2 = pd.DataFrame(predictions, columns=[\"id\", \"country\"])\n",
    "version = 2\n",
    "output2.to_csv(\"submissions/shared_submission_{0}.csv\".format(version), index=False)\n",
    "# Ranks 1142 with score of 0.79584."
   ]
  },
  {
   "cell_type": "code",
   "execution_count": 40,
   "metadata": {
    "collapsed": false
   },
   "outputs": [
    {
     "name": "stdout",
     "output_type": "stream",
     "text": [
      "F1 score: 0.538665051038\n"
     ]
    }
   ],
   "source": [
    "# Train Logistic Regression Model.\n",
    "lr = LogisticRegression(penalty='l2')\n",
    "lr.fit(train_x, train_y)\n",
    "lr_predictions = lr.predict(dev_x)\n",
    "print \"F1 score: {0}\".format(metrics.f1_score(dev_y,lr_predictions,average=\"weighted\"))"
   ]
  },
  {
   "cell_type": "code",
   "execution_count": 41,
   "metadata": {
    "collapsed": true
   },
   "outputs": [],
   "source": [
    "# Predict Top 5 cities for each test example using logistic regression model.\n",
    "prob_est = lr.predict_proba(test_data_x)\n",
    "predictions = []\n",
    "for i, example in enumerate(prob_est):\n",
    "    sorted_scores = np.sort(example)\n",
    "    top_5 = sorted_scores[len(sorted_scores) - 5:]\n",
    "    for score in reversed(top_5):\n",
    "        index_of_score = example.tolist().index(score)\n",
    "        predictions.append((test_data[\"id\"][i], lr.classes_[index_of_score]))\n",
    "output3 = pd.DataFrame(predictions, columns=[\"id\", \"country\"])\n",
    "version = 3\n",
    "output3.to_csv(\"submissions/shared_submission_{0}.csv\".format(version), index=False)\n",
    "# Ranks 1047 with score of 0.85894."
   ]
  },
  {
   "cell_type": "code",
   "execution_count": null,
   "metadata": {
    "collapsed": true
   },
   "outputs": [],
   "source": []
  }
 ],
 "metadata": {
  "kernelspec": {
   "display_name": "Python 2",
   "language": "python",
   "name": "python2"
  },
  "language_info": {
   "codemirror_mode": {
    "name": "ipython",
    "version": 2
   },
   "file_extension": ".py",
   "mimetype": "text/x-python",
   "name": "python",
   "nbconvert_exporter": "python",
   "pygments_lexer": "ipython2",
   "version": "2.7.11"
  }
 },
 "nbformat": 4,
 "nbformat_minor": 0
}
