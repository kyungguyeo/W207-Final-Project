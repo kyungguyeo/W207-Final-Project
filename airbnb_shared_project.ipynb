{
 "cells": [
  {
   "cell_type": "code",
   "execution_count": 112,
   "metadata": {
    "collapsed": false
   },
   "outputs": [],
   "source": [
    "# This tells matplotlib not to try opening a new window for each plot.\n",
    "%matplotlib inline\n",
    "\n",
    "# General libraries.\n",
    "import numpy as np\n",
    "import pandas as pd\n",
    "import math\n",
    "import matplotlib.pyplot as plt\n",
    "from matplotlib.dates import date2num\n",
    "from matplotlib.dates import YearLocator, MonthLocator, DateFormatter\n",
    "\n",
    "# SK-learn libraries for data processing.\n",
    "from sklearn import preprocessing\n",
    "from sklearn.pipeline import Pipeline\n",
    "\n",
    "# SK-learn libraries for learning.\n",
    "from sklearn.neighbors import KNeighborsClassifier\n",
    "from sklearn.naive_bayes import MultinomialNB\n",
    "from sklearn.linear_model import LogisticRegression\n",
    "from sklearn.ensemble import RandomForestClassifier    \n",
    "from sklearn.grid_search import GridSearchCV\n",
    "from sklearn.ensemble import VotingClassifier\n",
    "\n",
    "# SK-learn libraries for evaluation.\n",
    "from sklearn import metrics"
   ]
  },
  {
   "cell_type": "code",
   "execution_count": 113,
   "metadata": {
    "collapsed": false
   },
   "outputs": [
    {
     "name": "stdout",
     "output_type": "stream",
     "text": [
      "Train data shape: (213451, 16)\n",
      "--------------Train Data----------------------\n",
      "<class 'pandas.core.frame.DataFrame'>\n",
      "Int64Index: 213451 entries, 0 to 213450\n",
      "Data columns (total 16 columns):\n",
      "id                         213451 non-null object\n",
      "date_account_created       213451 non-null object\n",
      "timestamp_first_active     213451 non-null int64\n",
      "date_first_booking         88908 non-null object\n",
      "gender                     213451 non-null object\n",
      "age                        125461 non-null float64\n",
      "signup_method              213451 non-null object\n",
      "signup_flow                213451 non-null int64\n",
      "language                   213451 non-null object\n",
      "affiliate_channel          213451 non-null object\n",
      "affiliate_provider         213451 non-null object\n",
      "first_affiliate_tracked    207386 non-null object\n",
      "signup_app                 213451 non-null object\n",
      "first_device_type          213451 non-null object\n",
      "first_browser              213451 non-null object\n",
      "country_destination        213451 non-null object\n",
      "dtypes: float64(1), int64(2), object(13)\n",
      "memory usage: 27.7+ MB\n",
      "None\n",
      "----------------------------------------------\n",
      "\n",
      "\n",
      "Test data shape: (62096, 15)\n",
      "---------------Test Data----------------------\n",
      "<class 'pandas.core.frame.DataFrame'>\n",
      "Int64Index: 62096 entries, 0 to 62095\n",
      "Data columns (total 15 columns):\n",
      "id                         62096 non-null object\n",
      "date_account_created       62096 non-null object\n",
      "timestamp_first_active     62096 non-null int64\n",
      "date_first_booking         0 non-null float64\n",
      "gender                     62096 non-null object\n",
      "age                        33220 non-null float64\n",
      "signup_method              62096 non-null object\n",
      "signup_flow                62096 non-null int64\n",
      "language                   62096 non-null object\n",
      "affiliate_channel          62096 non-null object\n",
      "affiliate_provider         62096 non-null object\n",
      "first_affiliate_tracked    62076 non-null object\n",
      "signup_app                 62096 non-null object\n",
      "first_device_type          62096 non-null object\n",
      "first_browser              62096 non-null object\n",
      "dtypes: float64(2), int64(2), object(11)\n",
      "memory usage: 7.6+ MB\n",
      "None\n",
      "----------------------------------------------\n"
     ]
    }
   ],
   "source": [
    "# Load data using pandas.\n",
    "train_data = pd.read_csv('data/train_users_2.csv')\n",
    "test_data = pd.read_csv('data/test_users.csv')\n",
    "print \"Train data shape: {0}\".format(train_data.shape)\n",
    "print \"--------------Train Data----------------------\"\n",
    "print train_data.info()\n",
    "print \"----------------------------------------------\"\n",
    "\n",
    "print \"\\n\"\n",
    "print \"Test data shape: {0}\".format(test_data.shape)\n",
    "print \"---------------Test Data----------------------\"\n",
    "print test_data.info()\n",
    "print \"----------------------------------------------\""
   ]
  },
  {
   "cell_type": "code",
   "execution_count": 114,
   "metadata": {
    "collapsed": false
   },
   "outputs": [
    {
     "name": "stdout",
     "output_type": "stream",
     "text": [
      "Train data shape: (213451, 6)\n",
      "Test data shape: (62096, 6)\n",
      "Train labels shape: (213451,)\n"
     ]
    }
   ],
   "source": [
    "# Helper function to extract features.\n",
    "def ExtractFeatures(data):\n",
    "    # Choose a subset of categorical columns.\n",
    "    categorical_columns = [\"gender\", \"signup_method\", \"language\", \"first_device_type\", \"first_browser\"]\n",
    "    categorical_values = np.array(data[categorical_columns])\n",
    "\n",
    "    # Do the first column\n",
    "    enc_label = preprocessing.LabelEncoder()\n",
    "    features_data = enc_label.fit_transform(categorical_values[:,0])\n",
    "\n",
    "    # Do the rest of the columns\n",
    "    for i in range(1, categorical_values.shape[1]):\n",
    "            enc_label = preprocessing.LabelEncoder()\n",
    "            features_data = np.column_stack((features_data,\n",
    "                                             enc_label.fit_transform(categorical_values[:,i])))\n",
    "\n",
    "    # Add age to features.\n",
    "    # Set NA values to -1.\n",
    "    data[\"age\"] = data[\"age\"].fillna(-1)\n",
    "    # Add age data to training data.\n",
    "    features_data = np.column_stack((features_data, np.array(data[\"age\"])))\n",
    "    # Convert to matrix of ints.\n",
    "    features_data = features_data.astype(int)\n",
    "    return features_data\n",
    "\n",
    "# Extract and format features for training and test data.\n",
    "train_data_x = ExtractFeatures(train_data)\n",
    "test_data_x = ExtractFeatures(test_data)\n",
    "print \"Train data shape: {0}\".format(train_data_x.shape)\n",
    "print \"Test data shape: {0}\".format(test_data_x.shape)\n",
    "\n",
    "# Extract train labels.\n",
    "train_data_y = np.array(train_data[\"country_destination\"])\n",
    "print \"Train labels shape: {0}\".format(train_data_y.shape)"
   ]
  },
  {
   "cell_type": "markdown",
   "metadata": {},
   "source": [
    "### Exploring the data"
   ]
  },
  {
   "cell_type": "markdown",
   "metadata": {},
   "source": [
    "#### Analysis of age data\n",
    "We'll start with the assumption that valid age ranges should be between 18-100 since the minimum age according to the Terms of Service is 18. Any values outside of this range should be cleaned into valid values or set to 0\n",
    "as invalid."
   ]
  },
  {
   "cell_type": "code",
   "execution_count": 115,
   "metadata": {
    "collapsed": false
   },
   "outputs": [
    {
     "data": {
      "text/plain": [
       "<matplotlib.axes._subplots.AxesSubplot at 0x1212ebf50>"
      ]
     },
     "execution_count": 115,
     "metadata": {},
     "output_type": "execute_result"
    },
    {
     "data": {
      "image/png": "[encoded data removed]",
      "text/plain": [
       "<matplotlib.figure.Figure at 0x1213c28d0>"
      ]
     },
     "metadata": {},
     "output_type": "display_data"
    }
   ],
   "source": [
    "# Get all age values that are greater than zero.\n",
    "GTE_zero_age = train_data[train_data.age >= 0].age\n",
    "# Plot a histogram of these values.\n",
    "GTE_zero_age.hist(bins=5)"
   ]
  },
  {
   "cell_type": "code",
   "execution_count": 116,
   "metadata": {
    "collapsed": false
   },
   "outputs": [
    {
     "data": {
      "text/plain": [
       "<matplotlib.axes._subplots.AxesSubplot at 0x116843750>"
      ]
     },
     "execution_count": 116,
     "metadata": {},
     "output_type": "execute_result"
    },
    {
     "data": {
      "image/png": "[encoded data removed]",
      "text/plain": [
       "<matplotlib.figure.Figure at 0x1212b7fd0>"
      ]
     },
     "metadata": {},
     "output_type": "display_data"
    }
   ],
   "source": [
    "# Get all age values that are between 0 and 18.\n",
    "under_18 = GTE_zero_age[GTE_zero_age < 18]\n",
    "under_18.hist()\n",
    "# All these values should be treated as invalid values."
   ]
  },
  {
   "cell_type": "code",
   "execution_count": 117,
   "metadata": {
    "collapsed": false
   },
   "outputs": [
    {
     "data": {
      "text/plain": [
       "<matplotlib.axes._subplots.AxesSubplot at 0x11c026e90>"
      ]
     },
     "execution_count": 117,
     "metadata": {},
     "output_type": "execute_result"
    },
    {
     "data": {
      "image/png": "[encoded data removed]",
      "text/plain": [
       "<matplotlib.figure.Figure at 0x11c058210>"
      ]
     },
     "metadata": {},
     "output_type": "display_data"
    }
   ],
   "source": [
    "# From this, we can see that there are many large values.\n",
    "# Assuming anything above 100 is not a valid, let's plot the\n",
    "# histogram of those values.\n",
    "GT_150 = train_data[train_data.age > 100].age\n",
    "GT_150.hist(bins=5)\n",
    "# We can't make much sense out of values between 100-1915 so\n",
    "# those should be treated as invalid values as well."
   ]
  },
  {
   "cell_type": "code",
   "execution_count": 118,
   "metadata": {
    "collapsed": false
   },
   "outputs": [
    {
     "data": {
      "text/plain": [
       "<matplotlib.axes._subplots.AxesSubplot at 0x11be94b10>"
      ]
     },
     "execution_count": 118,
     "metadata": {},
     "output_type": "execute_result"
    },
    {
     "data": {
      "image/png": "[encoded data removed]",
      "text/plain": [
       "<matplotlib.figure.Figure at 0x126be8990>"
      ]
     },
     "metadata": {},
     "output_type": "display_data"
    }
   ],
   "source": [
    "# Let's look more closely at those values greater than 1915.\n",
    "GT_1915 = train_data[train_data.age > 1915].age\n",
    "GT_1915.hist(bins=20)\n",
    "# We have some values between 1915 and 1997 which we can\n",
    "# assume could be birth years.\n",
    "# The large number of values > 1997 are likely the current\n",
    "# year the user registered."
   ]
  },
  {
   "cell_type": "code",
   "execution_count": 119,
   "metadata": {
    "collapsed": true
   },
   "outputs": [],
   "source": [
    "# Helper function to clean up the age data based off\n",
    "# this analysis in both the training and test data.\n",
    "def CleanAgeData(df):\n",
    "    age_data = df.age\n",
    "    # Set missing values to -1.\n",
    "    age_data = age_data.fillna(-1)\n",
    "    # Set invalid values to 0.\n",
    "    # Values between 0-18 are considered invalid.\n",
    "    age_data[age_data.isin(range(0,18))] = 0\n",
    "    # Values between 100-1915 are considered invalid.\n",
    "    age_data[age_data.isin(range(101,1915))] = 0\n",
    "    # Values >2010 are considered invalid.\n",
    "    age_data[age_data > 1997] = 0\n",
    "    # Compute age for values between 1915-1997.\n",
    "    age_data[age_data.isin(range(1915,1998))] = 2015 - age_data[age_data.isin(range(1915,1998))]\n",
    "    return age_data"
   ]
  },
  {
   "cell_type": "code",
   "execution_count": 120,
   "metadata": {
    "collapsed": false
   },
   "outputs": [
    {
     "data": {
      "text/plain": [
       "<matplotlib.text.Text at 0x1252410d0>"
      ]
     },
     "execution_count": 120,
     "metadata": {},
     "output_type": "execute_result"
    },
    {
     "data": {
      "image/png": "[encoded data removed]",
      "text/plain": [
       "<matplotlib.figure.Figure at 0x115066950>"
      ]
     },
     "metadata": {},
     "output_type": "display_data"
    }
   ],
   "source": [
    "# Clean up training and test age data and plot cleaned data.\n",
    "plt.figure(figsize=(12, 6))\n",
    "train_age_data = CleanAgeData(train_data)\n",
    "plt.subplot(1, 2, 1)\n",
    "train_age_data.hist(bins=5)\n",
    "plt.title(\"Age Histogram of Train Data\")\n",
    "\n",
    "test_age_data = CleanAgeData(test_data)\n",
    "plt.subplot(1, 2, 2)\n",
    "test_age_data.hist(bins=5)\n",
    "plt.title(\"Age Histogram of Test Data\")"
   ]
  },
  {
   "cell_type": "markdown",
   "metadata": {},
   "source": [
    "#### Analysis of Date Data"
   ]
  },
  {
   "cell_type": "code",
   "execution_count": 121,
   "metadata": {
    "collapsed": false
   },
   "outputs": [
    {
     "data": {
      "text/plain": [
       "<matplotlib.text.Text at 0x115612810>"
      ]
     },
     "execution_count": 121,
     "metadata": {},
     "output_type": "execute_result"
    },
    {
     "data": {
      "image/png": "[encoded data removed]",
      "text/plain": [
       "<matplotlib.figure.Figure at 0x114310550>"
      ]
     },
     "metadata": {},
     "output_type": "display_data"
    }
   ],
   "source": [
    "# Plot account created time series data.\n",
    "plt.figure(figsize=(15, 15))\n",
    "account_created_data = pd.to_datetime(train_data.date_account_created).value_counts()\n",
    "plt.subplot(2, 2, 1)\n",
    "account_created_data.plot()\n",
    "plt.title(\"Account Creation Date Time Series\")\n",
    "\n",
    "# Plot account created month data.\n",
    "account_created_month = pd.to_datetime(train_data.date_account_created).dt.month\n",
    "plt.subplot(2, 2, 3)\n",
    "account_created_month.hist(bins=range(1,13))\n",
    "plt.title(\"Account Creation Month Histogram\")\n",
    "\n",
    "# Plot account created year data.\n",
    "account_created_year = pd.to_datetime(train_data.date_account_created).dt.year\n",
    "ax = plt.subplot(2, 2, 4)\n",
    "account_created_year.hist(bins=[2010,2011,2012,2013,2014,2015])\n",
    "ax.ticklabel_format(useOffset=False)\n",
    "plt.title(\"Account Creation Year Histogram\")"
   ]
  },
  {
   "cell_type": "markdown",
   "metadata": {},
   "source": [
    "### Preparing Data"
   ]
  },
  {
   "cell_type": "code",
   "execution_count": 122,
   "metadata": {
    "collapsed": false
   },
   "outputs": [
    {
     "name": "stdout",
     "output_type": "stream",
     "text": [
      "Train data shape: (213451, 6)\n",
      "Test data shape: (62096, 6)\n",
      "Train labels shape: (213451,)\n"
     ]
    }
   ],
   "source": [
    "# Helper function to extract features.\n",
    "def ExtractFeatures(data):\n",
    "    # Choose a subset of categorical columns.\n",
    "    categorical_columns = [\"gender\", \"signup_method\", \"language\", \"first_device_type\", \"first_browser\"]\n",
    "    categorical_values = np.array(data[categorical_columns])\n",
    "\n",
    "    # Do the first column\n",
    "    enc_label = preprocessing.LabelEncoder()\n",
    "    features_data = enc_label.fit_transform(categorical_values[:,0])\n",
    "\n",
    "    # Do the rest of the columns\n",
    "    for i in range(1, categorical_values.shape[1]):\n",
    "            enc_label = preprocessing.LabelEncoder()\n",
    "            features_data = np.column_stack((features_data,\n",
    "                                             enc_label.fit_transform(categorical_values[:,i])))\n",
    "\n",
    "    # Add cleaned version of age data to features.\n",
    "    age_data = CleanAgeData(data)\n",
    "    # Add age data to training data.\n",
    "    features_data = np.column_stack((features_data, np.array(age_data)))\n",
    "    \n",
    "    # Add account creation data (month and year).\n",
    "    # These are currently commented out because they actually make the model performance worse.\n",
    "    # Leaving them in since they might be useful for predicting NDF or booking.\n",
    "#     account_creation_month = pd.to_datetime(data.date_account_created).dt.month\n",
    "#     features_data = np.column_stack((features_data, np.array(account_creation_month)))\n",
    "#     account_created_year = pd.to_datetime(data.date_account_created).dt.year\n",
    "#     features_data = np.column_stack((features_data, np.array(account_created_year)))\n",
    "    \n",
    "    # Convert to matrix of ints.\n",
    "    features_data = features_data.astype(int)\n",
    "    return features_data\n",
    "\n",
    "# Extract and format features for training and test data.\n",
    "train_data_x = ExtractFeatures(train_data)\n",
    "test_data_x = ExtractFeatures(test_data)\n",
    "print \"Train data shape: {0}\".format(train_data_x.shape)\n",
    "print \"Test data shape: {0}\".format(test_data_x.shape)\n",
    "\n",
    "# Extract train labels.\n",
    "train_data_y = np.array(train_data[\"country_destination\"])\n",
    "print \"Train labels shape: {0}\".format(train_data_y.shape)"
   ]
  },
  {
   "cell_type": "code",
   "execution_count": 123,
   "metadata": {
    "collapsed": false
   },
   "outputs": [
    {
     "name": "stdout",
     "output_type": "stream",
     "text": [
      "(170760, 6) (170760,)\n",
      "(42691, 6) (42691,) (42691,)\n"
     ]
    }
   ],
   "source": [
    "# Split train data into training and dev sets.\n",
    "train_data_size = (len(train_data_x))/5*4\n",
    "train_x, train_y = train_data_x[:train_data_size], train_data_y[:train_data_size]\n",
    "dev_x, dev_y= train_data_x[train_data_size:], train_data_y[train_data_size:]\n",
    "\n",
    "# save dev id to be used in score calculation\n",
    "dev_id = np.array(train_data[\"id\"][train_data_size:])\n",
    "dev_dict = dict(zip(dev_id, dev_y))\n",
    "\n",
    "print train_x.shape, train_y.shape\n",
    "print dev_x.shape, dev_y.shape, dev_id.shape"
   ]
  },
  {
   "cell_type": "code",
   "execution_count": 124,
   "metadata": {
    "collapsed": true
   },
   "outputs": [],
   "source": [
    "# Calculate DCG score based on Kaggle evaluation doc\n",
    "def FinalScore(predictions):\n",
    "    to_print = False\n",
    "    \n",
    "    k, dcg, score, num_pred= 0, 0.0, 0.0, 0\n",
    "    cur_id = predictions[0][0]\n",
    "    \n",
    "    for i, p in enumerate(predictions):\n",
    "        if p[0] != cur_id:\n",
    "            score += dcg\n",
    "            num_pred +=1\n",
    "            if to_print: print \"id: %s -- DCG: %7.4f\"%(cur_id, dcg)\n",
    "\n",
    "            #start a new group\n",
    "            k, dcg, cur_id = 0, 0.0, p[0]\n",
    "            if to_print: print \"\\nnew id\", cur_id\n",
    "\n",
    "        k += 1  \n",
    "        rel, mark = 0, '  X'\n",
    "        if p[1] == dev_dict[cur_id]:\n",
    "            rel, mark = 1, 'V'\n",
    "        dcg += (pow(2,rel) - 1)*1. / math.log(k+1,2)\n",
    "\n",
    "        if to_print: print i, mark, cur_id, p, p[1], k, dcg\n",
    "    \n",
    "    #process the last id group\n",
    "    score += dcg\n",
    "    num_pred +=1\n",
    "    if to_print: print \"id: %s -- DCG: %7.4f\"%(cur_id, dcg)\n",
    "\n",
    "    return score/num_pred"
   ]
  },
  {
   "cell_type": "code",
   "execution_count": 125,
   "metadata": {
    "collapsed": true
   },
   "outputs": [],
   "source": [
    "# Helper function to return top 5 prediction result per example\n",
    "# given a trained model.\n",
    "def Predict_Top5(m):\n",
    "    prob_est = m.predict_proba(dev_x)\n",
    "    predictions = []\n",
    "    \n",
    "    for i, example in enumerate(prob_est):\n",
    "        sorted_scores = np.sort(example)\n",
    "        top_5 = sorted_scores[len(sorted_scores) - 5:]\n",
    "        for score in reversed(top_5):\n",
    "            index_of_score = example.tolist().index(score)\n",
    "            predictions.append((dev_id[i], m.classes_[index_of_score]))\n",
    "    \n",
    "    return predictions"
   ]
  },
  {
   "cell_type": "markdown",
   "metadata": {},
   "source": [
    "### Multinomial Naive Bayes"
   ]
  },
  {
   "cell_type": "code",
   "execution_count": 126,
   "metadata": {
    "collapsed": false
   },
   "outputs": [
    {
     "ename": "ValueError",
     "evalue": "Input X must be non-negative",
     "output_type": "error",
     "traceback": [
      "\u001b[0;31m---------------------------------------------------------------------------\u001b[0m",
      "\u001b[0;31mValueError\u001b[0m                                Traceback (most recent call last)",
      "\u001b[0;32m<ipython-input-126-9314e0f53a41>\u001b[0m in \u001b[0;36m<module>\u001b[0;34m()\u001b[0m\n\u001b[1;32m      1\u001b[0m \u001b[0;31m# Train Naive Bayes Model.\u001b[0m\u001b[0;34m\u001b[0m\u001b[0;34m\u001b[0m\u001b[0m\n\u001b[1;32m      2\u001b[0m \u001b[0mmnb\u001b[0m \u001b[0;34m=\u001b[0m \u001b[0mMultinomialNB\u001b[0m\u001b[0;34m(\u001b[0m\u001b[0;34m)\u001b[0m\u001b[0;34m\u001b[0m\u001b[0m\n\u001b[0;32m----> 3\u001b[0;31m \u001b[0mmnb\u001b[0m\u001b[0;34m.\u001b[0m\u001b[0mfit\u001b[0m\u001b[0;34m(\u001b[0m\u001b[0mtrain_x\u001b[0m\u001b[0;34m,\u001b[0m \u001b[0mtrain_y\u001b[0m\u001b[0;34m)\u001b[0m\u001b[0;34m\u001b[0m\u001b[0m\n\u001b[0m\u001b[1;32m      4\u001b[0m \u001b[0;32mprint\u001b[0m \u001b[0;34m\"Classes: {0}\"\u001b[0m\u001b[0;34m.\u001b[0m\u001b[0mformat\u001b[0m\u001b[0;34m(\u001b[0m\u001b[0mmnb\u001b[0m\u001b[0;34m.\u001b[0m\u001b[0mclasses_\u001b[0m\u001b[0;34m)\u001b[0m\u001b[0;34m\u001b[0m\u001b[0m\n\u001b[1;32m      5\u001b[0m \u001b[0;32mprint\u001b[0m \u001b[0;34m\"Class count: {0}\"\u001b[0m\u001b[0;34m.\u001b[0m\u001b[0mformat\u001b[0m\u001b[0;34m(\u001b[0m\u001b[0mmnb\u001b[0m\u001b[0;34m.\u001b[0m\u001b[0mclass_count_\u001b[0m\u001b[0;34m)\u001b[0m\u001b[0;34m\u001b[0m\u001b[0m\n",
      "\u001b[0;32m/Users/Jun/anaconda/lib/python2.7/site-packages/sklearn/naive_bayes.pyc\u001b[0m in \u001b[0;36mfit\u001b[0;34m(self, X, y, sample_weight)\u001b[0m\n\u001b[1;32m    550\u001b[0m         self.feature_count_ = np.zeros((n_effective_classes, n_features),\n\u001b[1;32m    551\u001b[0m                                        dtype=np.float64)\n\u001b[0;32m--> 552\u001b[0;31m         \u001b[0mself\u001b[0m\u001b[0;34m.\u001b[0m\u001b[0m_count\u001b[0m\u001b[0;34m(\u001b[0m\u001b[0mX\u001b[0m\u001b[0;34m,\u001b[0m \u001b[0mY\u001b[0m\u001b[0;34m)\u001b[0m\u001b[0;34m\u001b[0m\u001b[0m\n\u001b[0m\u001b[1;32m    553\u001b[0m         \u001b[0mself\u001b[0m\u001b[0;34m.\u001b[0m\u001b[0m_update_feature_log_prob\u001b[0m\u001b[0;34m(\u001b[0m\u001b[0;34m)\u001b[0m\u001b[0;34m\u001b[0m\u001b[0m\n\u001b[1;32m    554\u001b[0m         \u001b[0mself\u001b[0m\u001b[0;34m.\u001b[0m\u001b[0m_update_class_log_prior\u001b[0m\u001b[0;34m(\u001b[0m\u001b[0mclass_prior\u001b[0m\u001b[0;34m=\u001b[0m\u001b[0mclass_prior\u001b[0m\u001b[0;34m)\u001b[0m\u001b[0;34m\u001b[0m\u001b[0m\n",
      "\u001b[0;32m/Users/Jun/anaconda/lib/python2.7/site-packages/sklearn/naive_bayes.pyc\u001b[0m in \u001b[0;36m_count\u001b[0;34m(self, X, Y)\u001b[0m\n\u001b[1;32m    653\u001b[0m         \u001b[0;34m\"\"\"Count and smooth feature occurrences.\"\"\"\u001b[0m\u001b[0;34m\u001b[0m\u001b[0m\n\u001b[1;32m    654\u001b[0m         \u001b[0;32mif\u001b[0m \u001b[0mnp\u001b[0m\u001b[0;34m.\u001b[0m\u001b[0many\u001b[0m\u001b[0;34m(\u001b[0m\u001b[0;34m(\u001b[0m\u001b[0mX\u001b[0m\u001b[0;34m.\u001b[0m\u001b[0mdata\u001b[0m \u001b[0;32mif\u001b[0m \u001b[0missparse\u001b[0m\u001b[0;34m(\u001b[0m\u001b[0mX\u001b[0m\u001b[0;34m)\u001b[0m \u001b[0;32melse\u001b[0m \u001b[0mX\u001b[0m\u001b[0;34m)\u001b[0m \u001b[0;34m<\u001b[0m \u001b[0;36m0\u001b[0m\u001b[0;34m)\u001b[0m\u001b[0;34m:\u001b[0m\u001b[0;34m\u001b[0m\u001b[0m\n\u001b[0;32m--> 655\u001b[0;31m             \u001b[0;32mraise\u001b[0m \u001b[0mValueError\u001b[0m\u001b[0;34m(\u001b[0m\u001b[0;34m\"Input X must be non-negative\"\u001b[0m\u001b[0;34m)\u001b[0m\u001b[0;34m\u001b[0m\u001b[0m\n\u001b[0m\u001b[1;32m    656\u001b[0m         \u001b[0mself\u001b[0m\u001b[0;34m.\u001b[0m\u001b[0mfeature_count_\u001b[0m \u001b[0;34m+=\u001b[0m \u001b[0msafe_sparse_dot\u001b[0m\u001b[0;34m(\u001b[0m\u001b[0mY\u001b[0m\u001b[0;34m.\u001b[0m\u001b[0mT\u001b[0m\u001b[0;34m,\u001b[0m \u001b[0mX\u001b[0m\u001b[0;34m)\u001b[0m\u001b[0;34m\u001b[0m\u001b[0m\n\u001b[1;32m    657\u001b[0m         \u001b[0mself\u001b[0m\u001b[0;34m.\u001b[0m\u001b[0mclass_count_\u001b[0m \u001b[0;34m+=\u001b[0m \u001b[0mY\u001b[0m\u001b[0;34m.\u001b[0m\u001b[0msum\u001b[0m\u001b[0;34m(\u001b[0m\u001b[0maxis\u001b[0m\u001b[0;34m=\u001b[0m\u001b[0;36m0\u001b[0m\u001b[0;34m)\u001b[0m\u001b[0;34m\u001b[0m\u001b[0m\n",
      "\u001b[0;31mValueError\u001b[0m: Input X must be non-negative"
     ]
    }
   ],
   "source": [
    "# Train Naive Bayes Model.\n",
    "mnb = MultinomialNB()\n",
    "mnb.fit(train_x, train_y)\n",
    "print \"Classes: {0}\".format(mnb.classes_)\n",
    "print \"Class count: {0}\".format(mnb.class_count_)\n",
    "print \"Accuracy: {0}\".format(mnb.score(dev_x, dev_y))\n",
    "predictions = mnb.predict(dev_x)\n",
    "print \"F1 score: {0}\".format(metrics.f1_score(dev_y,predictions,average=\"weighted\"))"
   ]
  },
  {
   "cell_type": "code",
   "execution_count": null,
   "metadata": {
    "collapsed": false
   },
   "outputs": [],
   "source": [
    "# Predict test data using multinomial model.\n",
    "test_predictions = mnb.predict(test_data_x)\n",
    "output = pd.concat([test_data[\"id\"], pd.DataFrame(test_predictions, columns=[\"country\"])], axis=1)\n",
    "# Update version everytime!\n",
    "version = 1\n",
    "output.to_csv(\"submissions/shared_submission_{0}.csv\".format(version), index=False)\n",
    "# Ranks 1304 with score of 0.63168."
   ]
  },
  {
   "cell_type": "code",
   "execution_count": null,
   "metadata": {
    "collapsed": true
   },
   "outputs": [],
   "source": [
    "# Predict Top 5 cities for each test example using multinomial model.\n",
    "prob_est = mnb.predict_proba(test_data_x)\n",
    "predictions = []\n",
    "for i, example in enumerate(prob_est):\n",
    "    sorted_scores = np.sort(example)\n",
    "    top_5 = sorted_scores[len(sorted_scores) - 5:]\n",
    "    for score in reversed(top_5):\n",
    "        index_of_score = example.tolist().index(score)\n",
    "        predictions.append((test_data[\"id\"][i], mnb.classes_[index_of_score]))\n",
    "output2 = pd.DataFrame(predictions, columns=[\"id\", \"country\"])\n",
    "version = 2\n",
    "output2.to_csv(\"submissions/shared_submission_{0}.csv\".format(version), index=False)\n",
    "# Ranks 1142 with score of 0.79584."
   ]
  },
  {
   "cell_type": "code",
   "execution_count": null,
   "metadata": {
    "collapsed": false
   },
   "outputs": [],
   "source": [
    "print \"\\nfinal score: %7.5f\"%(FinalScore(Predict_Top5(mnb)))"
   ]
  },
  {
   "cell_type": "markdown",
   "metadata": {},
   "source": [
    "### Logistic Regression"
   ]
  },
  {
   "cell_type": "code",
   "execution_count": 128,
   "metadata": {
    "collapsed": false
   },
   "outputs": [
    {
     "name": "stdout",
     "output_type": "stream",
     "text": [
      "F1 score: 0.562514145031\n"
     ]
    }
   ],
   "source": [
    "# Train Logistic Regression Model.\n",
    "lr = LogisticRegression(penalty='l2')\n",
    "lr.fit(train_x, train_y)\n",
    "lr_predictions = lr.predict(dev_x)\n",
    "print \"F1 score: {0}\".format(metrics.f1_score(dev_y,lr_predictions,average=\"weighted\"))"
   ]
  },
  {
   "cell_type": "code",
   "execution_count": 129,
   "metadata": {
    "collapsed": true
   },
   "outputs": [],
   "source": [
    "# Predict Top 5 cities for each test example using logistic regression model.\n",
    "prob_est = lr.predict_proba(test_data_x)\n",
    "predictions = []\n",
    "for i, example in enumerate(prob_est):\n",
    "    sorted_scores = np.sort(example)\n",
    "    top_5 = sorted_scores[len(sorted_scores) - 5:]\n",
    "    for score in reversed(top_5):\n",
    "        index_of_score = example.tolist().index(score)\n",
    "        predictions.append((test_data[\"id\"][i], lr.classes_[index_of_score]))\n",
    "output3 = pd.DataFrame(predictions, columns=[\"id\", \"country\"])\n",
    "version = 6\n",
    "output3.to_csv(\"submissions/shared_submission_{0}.csv\".format(version), index=False)\n",
    "# Ranks 1049 with score of 0.85894."
   ]
  },
  {
   "cell_type": "code",
   "execution_count": 130,
   "metadata": {
    "collapsed": false
   },
   "outputs": [
    {
     "name": "stdout",
     "output_type": "stream",
     "text": [
      "\n",
      "final score: 0.82639\n"
     ]
    }
   ],
   "source": [
    "print \"\\nfinal score: %7.5f\"%(FinalScore(Predict_Top5(lr)))"
   ]
  },
  {
   "cell_type": "markdown",
   "metadata": {},
   "source": [
    "### Random Forest"
   ]
  },
  {
   "cell_type": "code",
   "execution_count": 131,
   "metadata": {
    "collapsed": false
   },
   "outputs": [
    {
     "name": "stdout",
     "output_type": "stream",
     "text": [
      "F1 score: 0.602895567769\n"
     ]
    }
   ],
   "source": [
    "# Train Random forest.\n",
    "rf= RandomForestClassifier()\n",
    "rf.fit(train_x, train_y)\n",
    "rf_predictions = rf.predict(dev_x)\n",
    "print \"F1 score: {0}\".format(metrics.f1_score(dev_y,rf_predictions,average=\"weighted\"))"
   ]
  },
  {
   "cell_type": "code",
   "execution_count": 132,
   "metadata": {
    "collapsed": true
   },
   "outputs": [],
   "source": [
    "# Predict Top 5 cities for each test example using Random forest model.\n",
    "prob_est = rf.predict_proba(test_data_x)\n",
    "predictions = []\n",
    "for i, example in enumerate(prob_est):\n",
    "    sorted_scores = np.sort(example)\n",
    "    top_5 = sorted_scores[len(sorted_scores) - 5:]\n",
    "    for score in reversed(top_5):\n",
    "        index_of_score = example.tolist().index(score)\n",
    "        predictions.append((test_data[\"id\"][i], rf.classes_[index_of_score]))\n",
    "output4 = pd.DataFrame(predictions, columns=[\"id\", \"country\"])\n",
    "version = 4\n",
    "output4.to_csv(\"submissions/shared_submission_{0}.csv\".format(version), index=False)\n",
    "# Ranks 1137 with score of 0.82136."
   ]
  },
  {
   "cell_type": "code",
   "execution_count": 133,
   "metadata": {
    "collapsed": false
   },
   "outputs": [
    {
     "name": "stdout",
     "output_type": "stream",
     "text": [
      "\n",
      "final score: 0.82018\n"
     ]
    }
   ],
   "source": [
    "print \"\\nfinal score: %7.5f\"%(FinalScore(Predict_Top5(rf)))"
   ]
  },
  {
   "cell_type": "code",
   "execution_count": 134,
   "metadata": {
    "collapsed": false
   },
   "outputs": [
    {
     "name": "stdout",
     "output_type": "stream",
     "text": [
      "\n",
      "final score: 0.83187\n"
     ]
    }
   ],
   "source": [
    "# Try voting ensemble\n",
    "vc = VotingClassifier(estimators=[ ('lr', lr), ('rf', rf)], voting='soft')\n",
    "vc.fit(train_x, train_y)\n",
    "\n",
    "# Predict Top 5 cities for each test example using Random forest model.\n",
    "prob_est = vc.predict_proba(test_data_x)\n",
    "predictions = []\n",
    "for i, example in enumerate(prob_est):\n",
    "    sorted_scores = np.sort(example)\n",
    "    top_5 = sorted_scores[len(sorted_scores) - 5:]\n",
    "    for score in reversed(top_5):\n",
    "        index_of_score = example.tolist().index(score)\n",
    "        predictions.append((test_data[\"id\"][i], vc.classes_[index_of_score]))\n",
    "output = pd.DataFrame(predictions, columns=[\"id\", \"country\"])\n",
    "version = 7\n",
    "output.to_csv(\"submissions/shared_submission_{0}.csv\".format(version), index=False)\n",
    "# Ranks 1032 with score of 0.86252.\n",
    "\n",
    "print \"\\nfinal score: %7.5f\"%(FinalScore(Predict_Top5(vc)))"
   ]
  },
  {
   "cell_type": "markdown",
   "metadata": {
    "collapsed": true
   },
   "source": [
    "### Log of Improvements\n",
    "1. Multinomial NB  \n",
    "Baseline score: 0.63168  \n",
    "Baseline rank: 1304  \n",
    "2. Multinomial NB with Top 5 predictions  \n",
    "Score: 0.79584  \n",
    "Rank: 1142\n",
    "3. Logistic Regression with Top 5 predictions  \n",
    "Score: 0.85894  \n",
    "Rank: 1049\n",
    "4. Random Forest with Top 5 predictions  \n",
    "Score: 0.81781  \n",
    "Rank: 1138  \n",
    "5. Logistic Regression with Age data clean-up  \n",
    "Score improvement: 0.85970  \n",
    "Rank improvement: 1044  \n",
    "6. Soft voting with Logistic Regression and Random Forest   \n",
    "Score improvement: 0.86252  \n",
    "Rank improvement: 1032  \n"
   ]
  },
  {
   "cell_type": "code",
   "execution_count": null,
   "metadata": {
    "collapsed": true
   },
   "outputs": [],
   "source": []
  }
 ],
 "metadata": {
  "kernelspec": {
   "display_name": "Python 2",
   "language": "python",
   "name": "python2"
  },
  "language_info": {
   "codemirror_mode": {
    "name": "ipython",
    "version": 2
   },
   "file_extension": ".py",
   "mimetype": "text/x-python",
   "name": "python",
   "nbconvert_exporter": "python",
   "pygments_lexer": "ipython2",
   "version": "2.7.11"
  }
 },
 "nbformat": 4,
 "nbformat_minor": 0
}
