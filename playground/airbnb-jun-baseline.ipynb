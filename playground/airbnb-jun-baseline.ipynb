{
 "cells": [
  {
   "cell_type": "code",
   "execution_count": 12,
   "metadata": {
    "collapsed": false
   },
   "outputs": [],
   "source": [
    "# This tells matplotlib not to try opening a new window for each plot.\n",
    "%matplotlib inline\n",
    "\n",
    "# General libraries.\n",
    "import numpy as np\n",
    "import matplotlib.pyplot as plt\n",
    "from sklearn import preprocessing\n",
    "\n",
    "# SK-learn libraries for learning.\n",
    "from sklearn.pipeline import Pipeline\n",
    "\n",
    "from sklearn.neighbors import KNeighborsClassifier\n",
    "from sklearn.linear_model import LinearRegression\n",
    "from sklearn.grid_search import GridSearchCV\n",
    "\n",
    "# SK-learn libraries for evaluation.\n",
    "from sklearn.metrics import confusion_matrix\n",
    "from sklearn import metrics\n",
    "from sklearn.metrics import classification_report"
   ]
  },
  {
   "cell_type": "code",
   "execution_count": 13,
   "metadata": {
    "collapsed": true
   },
   "outputs": [],
   "source": [
    "#load training data\n",
    "#change to where the dataset is saved\n",
    "train_ff = \"/Users/Jun/documents/mids/w207/airbnb/train_users_2.csv\" \n",
    "f = open(train_ff)\n",
    "column_names = f.readline() \n",
    "\n",
    "data = np.loadtxt(f, delimiter=\",\", usecols=(4,5,8,13,15),\n",
    "                  dtype={'names': ('gender', 'age', 'lang', 'device', 'country'),\n",
    "                        'formats': ('S9', 'S3', 'S2', 'S20', 'S5')})"
   ]
  },
  {
   "cell_type": "code",
   "execution_count": 14,
   "metadata": {
    "collapsed": false
   },
   "outputs": [],
   "source": [
    "#data_train = data[:20]\n",
    "data_train = data\n",
    "\n",
    "#Remove data with missing values\n",
    "for n in data_train.dtype.names:\n",
    "    if n == \"gender\":\n",
    "        data_train = data_train[data_train[n] != '-unknown-']\n",
    "    else:\n",
    "        data_train = data_train[data_train[n] != '']\n",
    "\n",
    "#print data_clean\n",
    "#Encode categorical variables\n",
    "le = preprocessing.LabelEncoder()\n",
    "for n in data_train.dtype.names:\n",
    "    data_train[:][n]= le.fit_transform(data_train[:][n])\n",
    "\n",
    "tmp = []\n",
    "for d in data_train:\n",
    "    tmp.append(list(d))\n",
    "data_processed = np.asarray(tmp).astype(int)\n",
    "#print data_processed\n",
    "#print data_processed.shape\n",
    "\n",
    "y, X = data_processed[:, -1], data_processed[:, :-1]\n",
    "\n",
    "#print y[:5]\n",
    "#print X[:5]\n",
    "#print le.inverse_transform(y)"
   ]
  },
  {
   "cell_type": "code",
   "execution_count": 15,
   "metadata": {
    "collapsed": true
   },
   "outputs": [],
   "source": [
    "#load test data\n",
    "test_ff = \"/Users/Jun/documents/mids/w207/airbnb/test_users.csv\"\n",
    "f = open(test_ff)\n",
    "column_names = f.readline() \n",
    "\n",
    "data = np.loadtxt(f, delimiter=\",\", usecols=(0,4,5,8,13),\n",
    "                  dtype={'names': ('id', 'gender', 'age', 'lang', 'device'),\n",
    "                         'formats': ('S10', 'S9', 'S3', 'S2', 'S20')})"
   ]
  },
  {
   "cell_type": "code",
   "execution_count": 16,
   "metadata": {
    "collapsed": false
   },
   "outputs": [],
   "source": [
    "#data_test = data[:20]\n",
    "data_test = data\n",
    "\n",
    "#Remove data with missing values\n",
    "for n in data_test.dtype.names:\n",
    "    if n == \"gender\":\n",
    "        data_test = data_test[data_test[n] != '-unknown-']\n",
    "    else:\n",
    "        data_test = data_test[data_test[n] != '']\n",
    "\n",
    "#print data_test\n",
    "\n",
    "#encode categorical variables\n",
    "le_test = preprocessing.LabelEncoder()\n",
    "for n in data_test.dtype.names:\n",
    "    if n != \"id\":\n",
    "        data_test[:][n]= le_test.fit_transform(data_test[:][n])\n",
    "\n",
    "ids = data_test[\"id\"]\n",
    "#print ids[0]\n",
    "#print data_test\n",
    "\n",
    "tmp = []\n",
    "for d in data_test:\n",
    "    tmp.append(list(tuple(d)[1:]))\n",
    "\n",
    "X_test = np.asarray(tmp).astype(int)\n",
    "\n",
    "#print X_test[:5]\n",
    "#print X_test.shape"
   ]
  },
  {
   "cell_type": "code",
   "execution_count": 17,
   "metadata": {
    "collapsed": true
   },
   "outputs": [],
   "source": [
    "#train a model\n",
    "y_train, X_train = y[:1000], X[:1000, :]\n",
    "\n",
    "kn = KNeighborsClassifier(n_neighbors=1)\n",
    "kn.fit(X_train, y_train)\n",
    "\n",
    "# here's what we need to send back to Kaggle\n",
    "preds = kn.predict(X_test)\n",
    "country_preds = le.inverse_transform(preds)"
   ]
  },
  {
   "cell_type": "code",
   "execution_count": 18,
   "metadata": {
    "collapsed": false
   },
   "outputs": [
    {
     "name": "stdout",
     "output_type": "stream",
     "text": [
      "output file saved.\n"
     ]
    }
   ],
   "source": [
    "#format output file\n",
    "#you will need to edit this directory\n",
    "test_lab_f = open(\"/Users/Jun/documents/mids/w207/airbnb/test_labeled2.csv\", \"w\") \n",
    "\n",
    "test_lab_f.write(\"id,country\")\n",
    "\n",
    "for i in range(len(ids)):\n",
    "    test_lab_f.write(\"\\n\")\n",
    "    test_lab_f.write(str(ids[i]) + \",\" + str(country_preds[i]))\n",
    "\n",
    "test_lab_f.close()\n",
    "\n",
    "print \"output file saved.\""
   ]
  },
  {
   "cell_type": "code",
   "execution_count": null,
   "metadata": {
    "collapsed": true
   },
   "outputs": [],
   "source": []
  }
 ],
 "metadata": {
  "kernelspec": {
   "display_name": "Python 2",
   "language": "python",
   "name": "python2"
  },
  "language_info": {
   "codemirror_mode": {
    "name": "ipython",
    "version": 2
   },
   "file_extension": ".py",
   "mimetype": "text/x-python",
   "name": "python",
   "nbconvert_exporter": "python",
   "pygments_lexer": "ipython2",
   "version": "2.7.11"
  }
 },
 "nbformat": 4,
 "nbformat_minor": 0
}
